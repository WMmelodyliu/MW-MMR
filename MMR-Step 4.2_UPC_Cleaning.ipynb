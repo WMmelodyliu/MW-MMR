{
 "cells": [
  {
   "cell_type": "code",
   "execution_count": 1,
   "id": "e4c949b7-52da-4ad0-8fd8-3306536b83a7",
   "metadata": {},
   "outputs": [
    {
     "data": {
      "text/plain": [
       "'2.2.2'"
      ]
     },
     "execution_count": 1,
     "metadata": {},
     "output_type": "execute_result"
    }
   ],
   "source": [
    "# import\n",
    "import pandas as pd\n",
    "import csv\n",
    "pd.__version__"
   ]
  },
  {
   "cell_type": "code",
   "execution_count": 2,
   "id": "03e12eb0",
   "metadata": {},
   "outputs": [],
   "source": [
    "# pip install mlutils"
   ]
  },
  {
   "cell_type": "code",
   "execution_count": 3,
   "id": "f40bf15b-d1d4-4918-816c-146e18f0cb3e",
   "metadata": {},
   "outputs": [],
   "source": [
    "# pip install --upgrade pandas"
   ]
  },
  {
   "cell_type": "code",
   "execution_count": 4,
   "id": "c955a941",
   "metadata": {},
   "outputs": [
    {
     "name": "stdout",
     "output_type": "stream",
     "text": [
      "['/Users/x0l09a3/Downloads/2024folder10/MMR/regular/UPC/FY26Mar(146)', '/opt/anaconda3/lib/python312.zip', '/opt/anaconda3/lib/python3.12', '/opt/anaconda3/lib/python3.12/lib-dynload', '', '/opt/anaconda3/lib/python3.12/site-packages', '/opt/anaconda3/lib/python3.12/site-packages/aeosa']\n"
     ]
    }
   ],
   "source": [
    "import sys\n",
    "print(sys.path)"
   ]
  },
  {
   "cell_type": "code",
   "execution_count": 5,
   "id": "868b571d",
   "metadata": {},
   "outputs": [],
   "source": [
    "sys.path.append('path/to/mlutils')"
   ]
  },
  {
   "cell_type": "code",
   "execution_count": 6,
   "id": "44186987-ecf8-4a1b-a4c7-03bac3ff5da6",
   "metadata": {},
   "outputs": [],
   "source": [
    "# import mlutils\n",
    "# from mlutils import dataset\n",
    "# if the mlutils doesnt work, terminal install the below\n",
    "# element_env_cli install  add env id (element_env_cli list) 44708"
   ]
  },
  {
   "cell_type": "code",
   "execution_count": 7,
   "id": "08d1f33f-0355-488d-8db8-da7b6f8b0f2a",
   "metadata": {},
   "outputs": [],
   "source": [
    "# read csv from \"files\" ##update\n",
    "#df = pd.read_csv(\"UPDATED_mmr2_walmart_numerator_upcs_p138_RESTATEMENT.csv\", error_bad_lines='skip', quoting=csv.QUOTE_NONE, index_col=False)\n",
    "#df = pd.read_csv(\"mmr2_walmart_numerator_upcs_p139.csv\", on_bad_lines='skip', quoting=csv.QUOTE_NONE, index_col=False)\n",
    "\n"
   ]
  },
  {
   "cell_type": "code",
   "execution_count": 8,
   "id": "69bdbc44",
   "metadata": {},
   "outputs": [
    {
     "name": "stderr",
     "output_type": "stream",
     "text": [
      "/var/folders/xk/pl3jmg716fl_105yxbpsvf7w0000gp/T/ipykernel_84741/1776807590.py:4: DtypeWarning: Columns (3,4) have mixed types. Specify dtype option on import or set low_memory=False.\n",
      "  df = pd.read_csv(\"mmr2_walmart_numerator_upcs_p145.csv\", quoting=csv.QUOTE_NONE, index_col=False)\n"
     ]
    }
   ],
   "source": [
    "import csv\n",
    "\n",
    "try:\n",
    "    df = pd.read_csv(\"mmr2_walmart_numerator_upcs_p146.csv\", quoting=csv.QUOTE_NONE, index_col=False)\n",
    "except Exception as e:\n",
    "    print(\"Error occurred:\", e)\n"
   ]
  },
  {
   "cell_type": "code",
   "execution_count": 9,
   "id": "1bd597e4",
   "metadata": {},
   "outputs": [
    {
     "name": "stderr",
     "output_type": "stream",
     "text": [
      "/var/folders/xk/pl3jmg716fl_105yxbpsvf7w0000gp/T/ipykernel_84741/3166332572.py:1: DtypeWarning: Columns (3,4) have mixed types. Specify dtype option on import or set low_memory=False.\n",
      "  df = pd.read_csv(\"mmr2_walmart_numerator_upcs_p145.csv\", quoting=csv.QUOTE_NONE, index_col=False, on_bad_lines='skip')\n"
     ]
    }
   ],
   "source": [
    "df = pd.read_csv(\"mmr2_walmart_numerator_upcs_p146.csv\", quoting=csv.QUOTE_NONE, index_col=False, on_bad_lines='skip')\n"
   ]
  },
  {
   "cell_type": "code",
   "execution_count": 10,
   "id": "32500c1a-a3a2-41ab-b9c2-fec0388a41d6",
   "metadata": {},
   "outputs": [],
   "source": [
    "df.to_csv('146_nielsen_upc.csv',index=False) ##update"
   ]
  },
  {
   "cell_type": "code",
   "execution_count": 11,
   "id": "ae7d5513-2bdd-4c5e-b6ec-07762f908706",
   "metadata": {},
   "outputs": [],
   "source": [
    "## Download the upc file and upload it to gcs bucket and then create a bq table from the gcs bucket\n",
    "# https://console.cloud.google.com/storage/browser/mmr-nielsen-upc-file;tab=objects?forceOnBucketsSortingFiltering=true&project=wmt-mint-mmr-mw-prod&prefix=&forceOnObjectsSortingFiltering=false&invt=Abt5yw\n",
    "## --> under the naming convention :\n",
    "## wmt-mint-mmr-mw-prod.MMR_numerator.lkp_nielsen_upc_mapping_fy{25}{numerator_month}\n",
    "## then use this new table in the step5 offline queries"
   ]
  },
  {
   "cell_type": "code",
   "execution_count": 12,
   "id": "26d7c9bb-44e3-42b1-8fa2-57d68b8b6e97",
   "metadata": {},
   "outputs": [],
   "source": [
    "# https://console.cloud.google.com/storage/browser/mmr-nielsen-upc-file;tab=objects?forceOnBucketsSortingFiltering=true&project=wmt-mint-mmr-mw-prod&prefix=&forceOnObjectsSortingFiltering=false"
   ]
  },
  {
   "cell_type": "code",
   "execution_count": null,
   "id": "a9c79e2e",
   "metadata": {},
   "outputs": [],
   "source": []
  }
 ],
 "metadata": {
  "kernelspec": {
   "display_name": "Python 3 (ipykernel)",
   "language": "python",
   "name": "python3"
  },
  "language_info": {
   "codemirror_mode": {
    "name": "ipython",
    "version": 3
   },
   "file_extension": ".py",
   "mimetype": "text/x-python",
   "name": "python",
   "nbconvert_exporter": "python",
   "pygments_lexer": "ipython3",
   "version": "3.12.4"
  }
 },
 "nbformat": 4,
 "nbformat_minor": 5
}
