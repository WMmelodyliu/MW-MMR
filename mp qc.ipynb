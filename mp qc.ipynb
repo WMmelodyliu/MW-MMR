{
 "cells": [
  {
   "cell_type": "code",
   "execution_count": 1,
   "id": "9a511892",
   "metadata": {},
   "outputs": [],
   "source": [
    "import pandas as pd\n",
    "import numpy as np\n",
    "import os"
   ]
  },
  {
   "cell_type": "code",
   "execution_count": 2,
   "id": "addd5381",
   "metadata": {},
   "outputs": [],
   "source": [
    "df1 = pd.read_excel('Finance_Pull_Dept_level_Feb (Inc Hist).xlsx')"
   ]
  },
  {
   "cell_type": "code",
   "execution_count": 4,
   "id": "7ab3181a",
   "metadata": {},
   "outputs": [
    {
     "name": "stderr",
     "output_type": "stream",
     "text": [
      "<>:6: SyntaxWarning: invalid escape sequence '\\d'\n",
      "<>:6: SyntaxWarning: invalid escape sequence '\\d'\n",
      "/var/folders/xk/pl3jmg716fl_105yxbpsvf7w0000gp/T/ipykernel_55379/1544749903.py:6: SyntaxWarning: invalid escape sequence '\\d'\n",
      "  df1['acctg_dept_nbr'] = df1['Unnamed: 3'].str.extract('(\\d+)')\n"
     ]
    }
   ],
   "source": [
    "mth = pd.DataFrame({'desc': ['Feb', 'Mar', 'Apr', 'May', 'Jun', 'Jul', 'Aug', 'Sep', 'Oct', 'Nov', 'Dec', 'Jan'], \n",
    "                    'nbr': [1, 2, 3, 4, 5, 6, 7, 8, 9, 10, 11, 12]}) \n",
    "df1['desc'] = df1['Unnamed: 1'].str[:3] \n",
    "df1 = df1.merge(mth, on='desc', how='left') \n",
    "df1 = df1[df1['Unnamed: 4'].notnull()] \n",
    "df1['acctg_dept_nbr'] = df1['Unnamed: 3'].str.extract('(\\d+)') \n",
    "df1 = df1[df1['acctg_dept_nbr'].notnull()]"
   ]
  },
  {
   "cell_type": "code",
   "execution_count": 7,
   "id": "abd4cd43",
   "metadata": {},
   "outputs": [
    {
     "data": {
      "text/html": [
       "<div>\n",
       "<style scoped>\n",
       "    .dataframe tbody tr th:only-of-type {\n",
       "        vertical-align: middle;\n",
       "    }\n",
       "\n",
       "    .dataframe tbody tr th {\n",
       "        vertical-align: top;\n",
       "    }\n",
       "\n",
       "    .dataframe thead th {\n",
       "        text-align: right;\n",
       "    }\n",
       "</style>\n",
       "<table border=\"1\" class=\"dataframe\">\n",
       "  <thead>\n",
       "    <tr style=\"text-align: right;\">\n",
       "      <th></th>\n",
       "      <th>Unnamed: 0</th>\n",
       "      <th>Unnamed: 1</th>\n",
       "      <th>Unnamed: 2</th>\n",
       "      <th>Unnamed: 3</th>\n",
       "      <th>Unnamed: 4</th>\n",
       "      <th>Unnamed: 5</th>\n",
       "      <th>Unnamed: 6</th>\n",
       "      <th>Unnamed: 7</th>\n",
       "      <th>Unnamed: 8</th>\n",
       "      <th>Unnamed: 9</th>\n",
       "      <th>Unnamed: 10</th>\n",
       "      <th>Unnamed: 11</th>\n",
       "      <th>Unnamed: 12</th>\n",
       "      <th>desc</th>\n",
       "      <th>nbr</th>\n",
       "      <th>acctg_dept_nbr</th>\n",
       "    </tr>\n",
       "  </thead>\n",
       "  <tbody>\n",
       "    <tr>\n",
       "      <th>8</th>\n",
       "      <td>FYE19</td>\n",
       "      <td>Feb-454</td>\n",
       "      <td>YearTotal</td>\n",
       "      <td>Wd.010 AUTOMOTIVE</td>\n",
       "      <td>471396938.79</td>\n",
       "      <td>0</td>\n",
       "      <td>0</td>\n",
       "      <td>0</td>\n",
       "      <td>0</td>\n",
       "      <td>0</td>\n",
       "      <td>0</td>\n",
       "      <td>0</td>\n",
       "      <td>NaN</td>\n",
       "      <td>Feb</td>\n",
       "      <td>1.0</td>\n",
       "      <td>010</td>\n",
       "    </tr>\n",
       "    <tr>\n",
       "      <th>9</th>\n",
       "      <td>FYE19</td>\n",
       "      <td>Feb-454</td>\n",
       "      <td>YearTotal</td>\n",
       "      <td>Wd.037 AUTO SERVICE</td>\n",
       "      <td>42151656.76</td>\n",
       "      <td>0</td>\n",
       "      <td>0</td>\n",
       "      <td>0</td>\n",
       "      <td>0</td>\n",
       "      <td>0</td>\n",
       "      <td>0</td>\n",
       "      <td>0</td>\n",
       "      <td>NaN</td>\n",
       "      <td>Feb</td>\n",
       "      <td>1.0</td>\n",
       "      <td>037</td>\n",
       "    </tr>\n",
       "    <tr>\n",
       "      <th>10</th>\n",
       "      <td>FYE19</td>\n",
       "      <td>Feb-454</td>\n",
       "      <td>YearTotal</td>\n",
       "      <td>Wd.009 SPORTS AND OUTDOORS</td>\n",
       "      <td>252323188.05</td>\n",
       "      <td>0</td>\n",
       "      <td>0</td>\n",
       "      <td>0</td>\n",
       "      <td>0</td>\n",
       "      <td>0</td>\n",
       "      <td>0</td>\n",
       "      <td>0</td>\n",
       "      <td>NaN</td>\n",
       "      <td>Feb</td>\n",
       "      <td>1.0</td>\n",
       "      <td>009</td>\n",
       "    </tr>\n",
       "    <tr>\n",
       "      <th>11</th>\n",
       "      <td>FYE19</td>\n",
       "      <td>Feb-454</td>\n",
       "      <td>YearTotal</td>\n",
       "      <td>Wd.011 HARDWARE</td>\n",
       "      <td>259612260.96</td>\n",
       "      <td>0</td>\n",
       "      <td>0</td>\n",
       "      <td>0</td>\n",
       "      <td>0</td>\n",
       "      <td>0</td>\n",
       "      <td>0</td>\n",
       "      <td>0</td>\n",
       "      <td>NaN</td>\n",
       "      <td>Feb</td>\n",
       "      <td>1.0</td>\n",
       "      <td>011</td>\n",
       "    </tr>\n",
       "    <tr>\n",
       "      <th>12</th>\n",
       "      <td>FYE19</td>\n",
       "      <td>Feb-454</td>\n",
       "      <td>YearTotal</td>\n",
       "      <td>Wd.012 DO IT YOURSELF</td>\n",
       "      <td>74980500.49</td>\n",
       "      <td>0</td>\n",
       "      <td>0</td>\n",
       "      <td>0</td>\n",
       "      <td>0</td>\n",
       "      <td>0</td>\n",
       "      <td>0</td>\n",
       "      <td>0</td>\n",
       "      <td>NaN</td>\n",
       "      <td>Feb</td>\n",
       "      <td>1.0</td>\n",
       "      <td>012</td>\n",
       "    </tr>\n",
       "  </tbody>\n",
       "</table>\n",
       "</div>"
      ],
      "text/plain": [
       "   Unnamed: 0 Unnamed: 1 Unnamed: 2                  Unnamed: 3    Unnamed: 4  \\\n",
       "8       FYE19    Feb-454  YearTotal           Wd.010 AUTOMOTIVE  471396938.79   \n",
       "9       FYE19    Feb-454  YearTotal         Wd.037 AUTO SERVICE   42151656.76   \n",
       "10      FYE19    Feb-454  YearTotal  Wd.009 SPORTS AND OUTDOORS  252323188.05   \n",
       "11      FYE19    Feb-454  YearTotal             Wd.011 HARDWARE  259612260.96   \n",
       "12      FYE19    Feb-454  YearTotal       Wd.012 DO IT YOURSELF   74980500.49   \n",
       "\n",
       "   Unnamed: 5 Unnamed: 6 Unnamed: 7 Unnamed: 8 Unnamed: 9 Unnamed: 10  \\\n",
       "8           0          0          0          0          0           0   \n",
       "9           0          0          0          0          0           0   \n",
       "10          0          0          0          0          0           0   \n",
       "11          0          0          0          0          0           0   \n",
       "12          0          0          0          0          0           0   \n",
       "\n",
       "   Unnamed: 11  Unnamed: 12 desc  nbr acctg_dept_nbr  \n",
       "8            0          NaN  Feb  1.0            010  \n",
       "9            0          NaN  Feb  1.0            037  \n",
       "10           0          NaN  Feb  1.0            009  \n",
       "11           0          NaN  Feb  1.0            011  \n",
       "12           0          NaN  Feb  1.0            012  "
      ]
     },
     "execution_count": 7,
     "metadata": {},
     "output_type": "execute_result"
    }
   ],
   "source": [
    "df1.head()"
   ]
  },
  {
   "cell_type": "code",
   "execution_count": 9,
   "id": "56bebf21",
   "metadata": {},
   "outputs": [],
   "source": [
    "df2 = pd.DataFrame() \n",
    "df2['wm_full_yr_nbr'] =(\"20\" + df1['Unnamed: 0'].str[-2:]).astype(int) - 1 \n",
    "df2['wm_mth_nbr'] = df1['nbr'] \n",
    "df2['acctg_dept_nbr'] = df1['acctg_dept_nbr'].astype(int) \n",
    "df2['BIS'] = df1['Unnamed: 4'] - df1['Unnamed: 7'] - df1['Unnamed: 8'] - df1['Unnamed: 11'] \n",
    "df2['CORE'] = df1['Unnamed: 5'] \n",
    "df2['MP'] = df1['Unnamed: 6'] \n",
    "df2['SFS'] = df1['Unnamed: 8'] \n",
    "df2['PUT'] = df1['Unnamed: 7'] \n",
    "df2['Scheduled Pickup'] = df1['Unnamed: 9'] \n",
    "df2['Scheduled Delivery'] = df1['Unnamed: 10'] \n"
   ]
  },
  {
   "cell_type": "code",
   "execution_count": 11,
   "id": "cb14ce0a",
   "metadata": {},
   "outputs": [],
   "source": [
    "df3 = pd.melt(df2, id_vars=['wm_full_yr_nbr', 'wm_mth_nbr', 'acctg_dept_nbr'], value_vars=['BIS', 'CORE', 'MP','PUT','SFS','Scheduled Pickup','Scheduled Delivery'])\n",
    "df3 = df3.rename(columns={'variable':'channel_detail', 'value':'wm_sales'})"
   ]
  },
  {
   "cell_type": "code",
   "execution_count": 13,
   "id": "bfb56885",
   "metadata": {},
   "outputs": [],
   "source": [
    "def assign_channel(channel_detail):\n",
    "    if channel_detail in ['CORE', 'MP','PUT','SFS','Scheduled Pickup','Scheduled Delivery']:\n",
    "        return 'Online'\n",
    "    elif channel_detail == 'BIS':\n",
    "        return 'BIS'\n",
    "    else:\n",
    "        return 'Other'\n",
    "\n",
    "df3['channel'] = df3['channel_detail'].apply(assign_channel)"
   ]
  },
  {
   "cell_type": "code",
   "execution_count": 15,
   "id": "686674c0",
   "metadata": {},
   "outputs": [],
   "source": [
    "df3.to_csv('Merch_Planner_FY25Jan.csv', index=False)"
   ]
  },
  {
   "cell_type": "code",
   "execution_count": null,
   "id": "861e46e0",
   "metadata": {},
   "outputs": [],
   "source": []
  }
 ],
 "metadata": {
  "kernelspec": {
   "display_name": "Python 3 (ipykernel)",
   "language": "python",
   "name": "python3"
  },
  "language_info": {
   "codemirror_mode": {
    "name": "ipython",
    "version": 3
   },
   "file_extension": ".py",
   "mimetype": "text/x-python",
   "name": "python",
   "nbconvert_exporter": "python",
   "pygments_lexer": "ipython3",
   "version": "3.12.4"
  }
 },
 "nbformat": 4,
 "nbformat_minor": 5
}
